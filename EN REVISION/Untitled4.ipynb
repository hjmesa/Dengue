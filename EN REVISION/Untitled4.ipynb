{
 "cells": [
  {
   "cell_type": "code",
   "execution_count": 1,
   "metadata": {},
   "outputs": [
    {
     "name": "stderr",
     "output_type": "stream",
     "text": [
      "┌ Info: Precompiling Flux [587475ba-b771-5e3f-ad9e-33799f191a9c]\n",
      "└ @ Base loading.jl:1273\n",
      "ERROR: LoadError: CUDA toolkit at C:\\Program Files (x86)\\NVIDIA Corporation\\PhysX\\Common doesn't contain nvcc\n",
      "Stacktrace:\n",
      " [1] error(::String) at .\\error.jl:33\n",
      " [2] find_toolkit_version(::Array{String,1}) at C:\\Users\\Hugo\\.julia\\packages\\CUDAapi\\hhBSt\\src\\discovery.jl:305\n",
      " [3] top-level scope at C:\\Users\\Hugo\\.julia\\packages\\CUDAnative\\Lr0yj\\src\\CUDAnative.jl:90\n",
      " [4] include at .\\boot.jl:328 [inlined]\n",
      " [5] include_relative(::Module, ::String) at .\\loading.jl:1105\n",
      " [6] include(::Module, ::String) at .\\Base.jl:31\n",
      " [7] top-level scope at none:2\n",
      " [8] eval at .\\boot.jl:330 [inlined]\n",
      " [9] eval(::Expr) at .\\client.jl:425\n",
      " [10] top-level scope at .\\none:3\n",
      "in expression starting at C:\\Users\\Hugo\\.julia\\packages\\CUDAnative\\Lr0yj\\src\\CUDAnative.jl:72\n",
      "ERROR: LoadError: Failed to precompile CUDAnative [be33ccc6-a3ff-5ff2-a52e-74243cff1e17] to C:\\Users\\Hugo\\.julia\\compiled\\v1.3\\CUDAnative\\4Zu2W_pFjdK.ji.\n",
      "Stacktrace:\n",
      " [1] error(::String) at .\\error.jl:33\n",
      " [2] compilecache(::Base.PkgId, ::String) at .\\loading.jl:1283\n",
      " [3] _require(::Base.PkgId) at .\\loading.jl:1024\n",
      " [4] require(::Base.PkgId) at .\\loading.jl:922\n",
      " [5] require(::Module, ::Symbol) at .\\loading.jl:917\n",
      " [6] include at .\\boot.jl:328 [inlined]\n",
      " [7] include_relative(::Module, ::String) at .\\loading.jl:1105\n",
      " [8] include(::Module, ::String) at .\\Base.jl:31\n",
      " [9] top-level scope at none:2\n",
      " [10] eval at .\\boot.jl:330 [inlined]\n",
      " [11] eval(::Expr) at .\\client.jl:425\n",
      " [12] top-level scope at .\\none:3\n",
      "in expression starting at C:\\Users\\Hugo\\.julia\\packages\\CuArrays\\wXQp8\\src\\CuArrays.jl:3\n",
      "┌ Warning: CUDA is installed, but CuArrays.jl fails to load\n",
      "│   exception =\n",
      "│    Failed to precompile CuArrays [3a865a2d-5b23-5a0f-bc46-62713ec82fae] to C:\\Users\\Hugo\\.julia\\compiled\\v1.3\\CuArrays\\7YFE0_pFjdK.ji.\n",
      "│    Stacktrace:\n",
      "│     [1] error(::String) at .\\error.jl:33\n",
      "│     [2] compilecache(::Base.PkgId, ::String) at .\\loading.jl:1283\n",
      "│     [3] _require(::Base.PkgId) at .\\loading.jl:1024\n",
      "│     [4] require(::Base.PkgId) at .\\loading.jl:922\n",
      "│     [5] require(::Module, ::Symbol) at .\\loading.jl:917\n",
      "│     [6] top-level scope at C:\\Users\\Hugo\\.julia\\packages\\Flux\\dkJUV\\src\\Flux.jl:30\n",
      "│     [7] include at .\\boot.jl:328 [inlined]\n",
      "│     [8] include_relative(::Module, ::String) at .\\loading.jl:1105\n",
      "│     [9] include(::Module, ::String) at .\\Base.jl:31\n",
      "│     [10] top-level scope at none:2\n",
      "│     [11] eval at .\\boot.jl:330 [inlined]\n",
      "│     [12] eval(::Expr) at .\\client.jl:425\n",
      "│     [13] top-level scope at .\\none:3\n",
      "│     [14] eval(::Module, ::Any) at .\\boot.jl:330\n",
      "│     [15] exec_options(::Base.JLOptions) at .\\client.jl:263\n",
      "│     [16] _start() at .\\client.jl:460\n",
      "└ @ Flux C:\\Users\\Hugo\\.julia\\packages\\Flux\\dkJUV\\src\\Flux.jl:33\n"
     ]
    }
   ],
   "source": [
    "#using Pkg\n",
    "#Pkg.add(\"Flux\")\n",
    "using Flux"
   ]
  },
  {
   "cell_type": "code",
   "execution_count": 2,
   "metadata": {},
   "outputs": [
    {
     "data": {
      "text/plain": [
       "8.0 (tracked)"
      ]
     },
     "execution_count": 2,
     "metadata": {},
     "output_type": "execute_result"
    }
   ],
   "source": [
    "using Flux.Tracker\n",
    "\n",
    "# executable math\n",
    "f(x) = x^2+1\n",
    "\n",
    "# f'(x) = 2x\n",
    "df(x) = gradient(f,x,nest=true)[1] # df is a tuple, [1] gets the first coordinate\n",
    "\n",
    "df(4)"
   ]
  },
  {
   "cell_type": "code",
   "execution_count": null,
   "metadata": {},
   "outputs": [],
   "source": [
    "# f''(x) = 2\n",
    "ddf(x) = gradient(df,x,nest=true)[1]\n",
    "ddf(0)\n",
    "\n"
   ]
  }
 ],
 "metadata": {
  "kernelspec": {
   "display_name": "Julia 1.3.1",
   "language": "julia",
   "name": "julia-1.3"
  },
  "language_info": {
   "file_extension": ".jl",
   "mimetype": "application/julia",
   "name": "julia",
   "version": "1.3.1"
  }
 },
 "nbformat": 4,
 "nbformat_minor": 2
}
